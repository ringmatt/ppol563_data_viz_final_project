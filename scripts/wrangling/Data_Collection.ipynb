{
 "cells": [
  {
   "cell_type": "markdown",
   "id": "864d66a9",
   "metadata": {},
   "source": [
    "# Data Collection\n",
    "\n",
    "Goal: Initial downloads & merges"
   ]
  },
  {
   "cell_type": "markdown",
   "id": "b40a3db2",
   "metadata": {},
   "source": [
    "## ACS Data\n",
    "\n",
    "Goal: Download ACS-based data\n",
    "\n",
    "Subtasks:\n",
    "1. Inequality - B19083\n"
   ]
  }
 ],
 "metadata": {
  "kernelspec": {
   "display_name": "Python 3",
   "language": "python",
   "name": "python3"
  },
  "language_info": {
   "codemirror_mode": {
    "name": "ipython",
    "version": 3
   },
   "file_extension": ".py",
   "mimetype": "text/x-python",
   "name": "python",
   "nbconvert_exporter": "python",
   "pygments_lexer": "ipython3",
   "version": "3.8.10"
  }
 },
 "nbformat": 4,
 "nbformat_minor": 5
}
