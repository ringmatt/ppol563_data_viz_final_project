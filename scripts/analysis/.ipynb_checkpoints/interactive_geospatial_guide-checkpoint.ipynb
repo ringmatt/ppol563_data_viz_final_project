{
 "cells": [
  {
   "cell_type": "markdown",
   "id": "c03f5874-b1df-4c84-af1e-065542476c10",
   "metadata": {
    "tags": []
   },
   "source": [
    "# Interactive Geospatial Guide\n",
    "\n",
    "Purpose: Create interactive, geospatial visualizations with minimal python knowledge and packages."
   ]
  },
  {
   "cell_type": "markdown",
   "id": "de3656b2-ab79-4792-b082-1fa33e55bf36",
   "metadata": {
    "tags": []
   },
   "source": [
    "# 1. Loading Data & Packages\n",
    "\n",
    "Packages: pandas, matplotlib, geopandas, bokeh\n",
    "Data: County-level statistics for the DC, Maryland, and Virginia Area."
   ]
  },
  {
   "cell_type": "code",
   "execution_count": 1,
   "id": "923d63e4-1f7d-4384-8262-c3cf28585c5b",
   "metadata": {},
   "outputs": [],
   "source": [
    "## Package imports\n",
    "\n",
    "# For handling data generally\n",
    "import pandas as pd\n",
    "\n",
    "# For importing shapefiles\n",
    "import geopandas as gpd\n",
    "\n",
    "# For converting dataframes to json files\n",
    "import json\n",
    "\n",
    "# For visualizing geospatial data\n",
    "import bokeh"
   ]
  },
  {
   "cell_type": "code",
   "execution_count": null,
   "id": "dcff2fce-f14e-454f-a81e-d9887c7e55c4",
   "metadata": {},
   "outputs": [],
   "source": [
    "## Data imports\n",
    "\n",
    "# Read in the DC, Maryland, and Virginia spatial data\n",
    "\n",
    "# Convert to a json file\n",
    "df_geo = GeoJSONDataSource(geojson = df.to_json())"
   ]
  },
  {
   "cell_type": "markdown",
   "id": "476b36c2-bb64-4d18-ae41-a5ac8577c061",
   "metadata": {
    "tags": []
   },
   "source": [
    "# 2. Basic Visualization\n",
    "\n",
    "Goal: Create and fine-tune a simple Bokeh visualization."
   ]
  },
  {
   "cell_type": "code",
   "execution_count": null,
   "id": "387fb703-b78d-4acf-99e7-487e0bfff107",
   "metadata": {},
   "outputs": [],
   "source": [
    "# Create figure object.\n",
    "p = figure(title = '', \n",
    "#            plot_height = 600 ,\n",
    "#            plot_width = 950, \n",
    "#            toolbar_location = 'below',\n",
    "           tools = \"pan, wheel_zoom, box_zoom, reset, save\")\n",
    "\n",
    "p.xgrid.grid_line_color = None\n",
    "p.ygrid.grid_line_color = None\n",
    "\n",
    "# Add patch renderer to figure.\n",
    "states = p.patches('xs','ys', source = df_geo,\n",
    "#                    fill_color = None,\n",
    "#                    line_color = ‘gray’, \n",
    "#                    line_width = 0.25, \n",
    "#                    fill_alpha = 1\n",
    "                  )"
   ]
  },
  {
   "cell_type": "markdown",
   "id": "74f9ff85-dec9-426c-b677-ae3f4b24849b",
   "metadata": {},
   "source": [
    "# 3. Additional Tools\n",
    "\n",
    "Goal: Explore other interactive tools in Bokah."
   ]
  },
  {
   "cell_type": "code",
   "execution_count": null,
   "id": "f9f2b07b-835b-4e29-9a32-dd901ecd5caf",
   "metadata": {},
   "outputs": [],
   "source": []
  },
  {
   "cell_type": "markdown",
   "id": "d16223ce-24c2-4502-8896-504d02eed47b",
   "metadata": {},
   "source": [
    "# 4. Saving & Sharing\n",
    "\n",
    "Goal: Storing and presenting interactive visualizations."
   ]
  },
  {
   "cell_type": "code",
   "execution_count": null,
   "id": "6ba79f24-61a7-48c7-9319-d2a87ac7d83d",
   "metadata": {},
   "outputs": [],
   "source": []
  }
 ],
 "metadata": {
  "kernelspec": {
   "display_name": "Python 3 (ipykernel)",
   "language": "python",
   "name": "python3"
  },
  "language_info": {
   "codemirror_mode": {
    "name": "ipython",
    "version": 3
   },
   "file_extension": ".py",
   "mimetype": "text/x-python",
   "name": "python",
   "nbconvert_exporter": "python",
   "pygments_lexer": "ipython3",
   "version": "3.8.12"
  }
 },
 "nbformat": 4,
 "nbformat_minor": 5
}
