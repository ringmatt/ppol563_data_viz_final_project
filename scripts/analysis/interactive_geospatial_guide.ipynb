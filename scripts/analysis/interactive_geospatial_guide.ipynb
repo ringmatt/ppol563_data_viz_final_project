{
 "cells": [
  {
   "cell_type": "markdown",
   "id": "c03f5874-b1df-4c84-af1e-065542476c10",
   "metadata": {
    "tags": []
   },
   "source": [
    "# Interactive Geospatial Guide\n",
    "\n",
    "Purpose: Create interactive, geospatial visualizations with minimal python knowledge and packages."
   ]
  },
  {
   "cell_type": "markdown",
   "id": "de3656b2-ab79-4792-b082-1fa33e55bf36",
   "metadata": {
    "tags": []
   },
   "source": [
    "# 1. Loading Data & Packages\n",
    "\n",
    "Packages: pandas, matplotlib, geopandas, bokeh\n",
    "Data: County-level statistics for the DC, Maryland, and Virginia Area."
   ]
  },
  {
   "cell_type": "code",
   "execution_count": 1,
   "id": "923d63e4-1f7d-4384-8262-c3cf28585c5b",
   "metadata": {},
   "outputs": [],
   "source": [
    "## Package imports\n",
    "\n",
    "# For handling data generally\n",
    "import pandas as pd\n",
    "\n",
    "# For importing shapefiles\n",
    "import geopandas as gpd\n",
    "\n",
    "# For converting dataframes to json files\n",
    "import json\n",
    "\n",
    "# For visualizing geospatial data\n",
    "import bokeh"
   ]
  },
  {
   "cell_type": "markdown",
   "id": "8342c027-8c7f-46c8-8cc1-f52a5e6f7dbb",
   "metadata": {},
   "source": [
    "All data used in this guide can be obtained via public sources. **Include**"
   ]
  },
  {
   "cell_type": "code",
   "execution_count": null,
   "id": "dcff2fce-f14e-454f-a81e-d9887c7e55c4",
   "metadata": {},
   "outputs": [],
   "source": [
    "## Data imports\n",
    "\n",
    "# Read in the DC, Maryland, and Virginia spatial data\n",
    "\n",
    "# Convert to a json file\n",
    "df_geo = GeoJSONDataSource(geojson = df.to_json())"
   ]
  },
  {
   "cell_type": "markdown",
   "id": "476b36c2-bb64-4d18-ae41-a5ac8577c061",
   "metadata": {
    "tags": []
   },
   "source": [
    "# 2. Basic Visualization\n",
    "\n",
    "Goal: Create and fine-tune a simple Bokeh visualization."
   ]
  },
  {
   "cell_type": "markdown",
   "id": "aadd6061-268a-4be1-9024-03ffa8c9f378",
   "metadata": {},
   "source": [
    "## A. Points"
   ]
  },
  {
   "cell_type": "code",
   "execution_count": null,
   "id": "09aa5ba0-0bd2-4d39-8bf4-6c967b81b5b5",
   "metadata": {},
   "outputs": [],
   "source": []
  },
  {
   "cell_type": "markdown",
   "id": "51c5856e-eedf-44f6-860a-9ec5fee67c2b",
   "metadata": {},
   "source": [
    "## B. Shapes"
   ]
  },
  {
   "cell_type": "code",
   "execution_count": null,
   "id": "387fb703-b78d-4acf-99e7-487e0bfff107",
   "metadata": {},
   "outputs": [],
   "source": [
    "# Create figure object.\n",
    "p = figure(title = '', \n",
    "#            plot_height = 600 ,\n",
    "#            plot_width = 950, \n",
    "#            toolbar_location = 'below',\n",
    "           tools = \"pan, wheel_zoom, box_zoom, reset, save\")\n",
    "\n",
    "p.xgrid.grid_line_color = None\n",
    "p.ygrid.grid_line_color = None\n",
    "\n",
    "# Add patch renderer to figure.\n",
    "states = p.patches('xs','ys', source = df_geo,\n",
    "#                    fill_color = None,\n",
    "#                    line_color = ‘gray’, \n",
    "#                    line_width = 0.25, \n",
    "#                    fill_alpha = 1\n",
    "                  )"
   ]
  },
  {
   "cell_type": "markdown",
   "id": "74f9ff85-dec9-426c-b677-ae3f4b24849b",
   "metadata": {},
   "source": [
    "# 3. Additional Tools\n",
    "\n",
    "Goal: Explore other interactive tools in Bokah."
   ]
  },
  {
   "cell_type": "markdown",
   "id": "af336790-01ab-47a6-ae9a-5567edce65c2",
   "metadata": {},
   "source": [
    "## A. Select"
   ]
  },
  {
   "cell_type": "code",
   "execution_count": null,
   "id": "f885de98-c2a7-4d9c-aad5-85878d6e3700",
   "metadata": {},
   "outputs": [],
   "source": []
  },
  {
   "cell_type": "markdown",
   "id": "e08b42f6-96fb-44b3-a66d-96bead73ada1",
   "metadata": {},
   "source": [
    "## B. Hover"
   ]
  },
  {
   "cell_type": "code",
   "execution_count": null,
   "id": "f9f2b07b-835b-4e29-9a32-dd901ecd5caf",
   "metadata": {},
   "outputs": [],
   "source": []
  },
  {
   "cell_type": "markdown",
   "id": "f9f7ccf8-500a-4f87-8e10-d26333f6a117",
   "metadata": {},
   "source": [
    "## C. Range"
   ]
  },
  {
   "cell_type": "code",
   "execution_count": null,
   "id": "670b0aeb-b2ec-4a87-b9f4-12759a903eed",
   "metadata": {},
   "outputs": [],
   "source": []
  },
  {
   "cell_type": "markdown",
   "id": "5d92e9c3-8c3c-489a-b141-503469483c2b",
   "metadata": {},
   "source": [
    "## D. Draw"
   ]
  },
  {
   "cell_type": "code",
   "execution_count": null,
   "id": "205866b2-0c39-4000-a026-b449dd9b4f64",
   "metadata": {},
   "outputs": [],
   "source": []
  },
  {
   "cell_type": "markdown",
   "id": "d16223ce-24c2-4502-8896-504d02eed47b",
   "metadata": {},
   "source": [
    "# 4. Saving & Sharing\n",
    "\n",
    "Goal: Storing and presenting interactive visualizations."
   ]
  },
  {
   "cell_type": "markdown",
   "id": "e54d28dd-7952-4891-800a-f9b3a9678467",
   "metadata": {},
   "source": [
    "## A. Plots"
   ]
  },
  {
   "cell_type": "code",
   "execution_count": null,
   "id": "982dbd7f-e1e5-455a-9f73-0eef4c62c4b9",
   "metadata": {},
   "outputs": [],
   "source": []
  },
  {
   "cell_type": "markdown",
   "id": "5372480f-3825-43c4-9904-2f2cfb1e3d8e",
   "metadata": {},
   "source": [
    "## B. Documents"
   ]
  },
  {
   "cell_type": "code",
   "execution_count": null,
   "id": "8f78baa2-c043-444d-9b62-7444dfb4b637",
   "metadata": {},
   "outputs": [],
   "source": []
  },
  {
   "cell_type": "markdown",
   "id": "e7711ead-95df-4fb4-a711-14f5c4d1cc53",
   "metadata": {},
   "source": [
    "## C. Bokeh Server Apps"
   ]
  },
  {
   "cell_type": "code",
   "execution_count": null,
   "id": "da9a7804-0074-4ea7-85e6-d06ca45cfffa",
   "metadata": {},
   "outputs": [],
   "source": []
  }
 ],
 "metadata": {
  "kernelspec": {
   "display_name": "Python 3 (ipykernel)",
   "language": "python",
   "name": "python3"
  },
  "language_info": {
   "codemirror_mode": {
    "name": "ipython",
    "version": 3
   },
   "file_extension": ".py",
   "mimetype": "text/x-python",
   "name": "python",
   "nbconvert_exporter": "python",
   "pygments_lexer": "ipython3",
   "version": "3.8.12"
  }
 },
 "nbformat": 4,
 "nbformat_minor": 5
}
